{
 "cells": [
  {
   "cell_type": "markdown",
   "metadata": {},
   "source": [
    "# The geometry of hidden representations in protein language models"
   ]
  },
  {
   "cell_type": "markdown",
   "metadata": {},
   "source": [
    "### Import libraries"
   ]
  },
  {
   "cell_type": "code",
   "execution_count": 1,
   "metadata": {},
   "outputs": [],
   "source": [
    "import sys\n",
    "sys.path.insert(0,'src/')\n",
    "\n",
    "import numpy as np\n",
    "import os\n",
    "import plotly.graph_objects as go\n",
    "from plotly.graph_objects import Layout\n",
    "from intrinsic_dimension import block_analysis, save_ID_results, plot_curve_ID"
   ]
  },
  {
   "cell_type": "code",
   "execution_count": 2,
   "metadata": {},
   "outputs": [],
   "source": [
    "mapping = {'esm1b':['ESM-1b','rgb(220,20,60)', np.arange(34)],'esm1v':['ESM-1v','rgb(0,139,139)',np.arange(34)],\n",
    "            'ProtBert':['ProtBert','rgb(136, 78, 160)',np.arange(31)], 'ProtT5':['ProtT5-XL-U50','rgb(245, 148, 0)',np.arange(25)], \n",
    "            'esm2-15B':['ESM-2 (15B)','rgb(68, 1, 84)',np.arange(49)],'esm2-3B':['ESM-2 (3B)','rgb(65, 68, 135)',np.arange(37)],\n",
    "            'esm2-650M':['ESM-2 (650M)','rgb(42, 120, 142)',np.arange(34)], 'esm2-150M':['ESM-2 (150M)','rgb(34, 168, 132)', np.arange(31)],\n",
    "            'esm2-35M':['ESM-2 (35M)','rgb(122, 209, 81)',np.arange(13)], 'esm2-8M':['ESM-2 (8M)','rgb(253, 231, 37)',np.arange(7)], \n",
    "            'esm-MSA':['ESM-MSA-1b','rgb(66,145,31)',np.arange(13)]}"
   ]
  },
  {
   "cell_type": "markdown",
   "metadata": {},
   "source": [
    "## 1. Intrinsic Dimension"
   ]
  },
  {
   "cell_type": "markdown",
   "metadata": {},
   "source": [
    "### Download ProteinNet data and estimate ID"
   ]
  },
  {
   "cell_type": "code",
   "execution_count": 6,
   "metadata": {},
   "outputs": [],
   "source": [
    "# choose the model you are interested in between: 'esm1b', 'esm1v', 'ProtBert', 'ProtT5', 'esm2-'...\n",
    "model = 'esm1b'\n",
    "\n",
    "# take mapping values for the model\n",
    "map = mapping[model]\n",
    "\n",
    "# create dict which will store results for each reps \n",
    "reps_id = {i : [] for i in map[2]}\n",
    "\n",
    "# define path of input and output\n",
    "device = 'lucrezia'\n",
    "if device == 'orfeo':\n",
    "    input_path = '/Users/lucreziavaleriani/Desktop/mount_orfeo/data_repo/pdist/'+ model\n",
    "else:\n",
    "    input_path = '/Users/lucreziavaleriani/Desktop/'\n",
    "    res_path = '/Users/lucreziavaleriani/Desktop/'\n"
   ]
  },
  {
   "cell_type": "code",
   "execution_count": 7,
   "metadata": {},
   "outputs": [
    {
     "name": "stdout",
     "output_type": "stream",
     "text": [
      "start\n"
     ]
    }
   ],
   "source": [
    "# for each rep calculate the id value, save the results of the procedure if needed, \n",
    "# and store the mean value of ID inside the dictionary\n",
    "from dadapy import data\n",
    "\n",
    "for rep in reps_id.keys():\n",
    "    dist_mat = np.load(os.path.join(input_path,'pdist_pnet_rep'+str(rep)+'.npy'))\n",
    "    \n",
    "    # d = data.Data(dist_mat)\n",
    "    # print('start')\n",
    "    # id_twoNN_noisy, _, r_noisy = d.compute_id_2NN()\n",
    "\n",
    "\n",
    "    \n",
    "    #dim,std,n_point = block_analysis(dist_mat, blocks=list(range(1, 21)), fraction=0.9)\n",
    "    #esm1b = save_ID_results('id_0.csv',dim,std,n_point)\n",
    "\n",
    "    #reps_id[rep].append(np.mean(dim))\n",
    "    \n"
   ]
  },
  {
   "cell_type": "markdown",
   "metadata": {},
   "source": [
    "### Plot curve(s)"
   ]
  },
  {
   "cell_type": "code",
   "execution_count": 24,
   "metadata": {},
   "outputs": [
    {
     "ename": "SyntaxError",
     "evalue": "unexpected EOF while parsing (2246470315.py, line 19)",
     "output_type": "error",
     "traceback": [
      "\u001b[0;36m  Input \u001b[0;32mIn [24]\u001b[0;36m\u001b[0m\n\u001b[0;31m    #pio.write_image(fig, '/u/area/lvaleriani/scratch/esm2/curve/svgplots/pnet_esm1.png',scale=5,width=900, height=700)\u001b[0m\n\u001b[0m                                                                                                                       ^\u001b[0m\n\u001b[0;31mSyntaxError\u001b[0m\u001b[0;31m:\u001b[0m unexpected EOF while parsing\n"
     ]
    }
   ],
   "source": [
    "layout = Layout(plot_bgcolor='rgba(0,0,0,0)')\n",
    "fig = go.Figure(layout=layout)\n",
    "\n",
    "plot_curve_ID(fig,len(map[2])/(len(map[2])-1),reps_id.values(),map[1],map[0])\n",
    "\n",
    "fig.update_xaxes(showline=True, linewidth=1, linecolor='black',showticklabels=True, tickmode = 'array',tickvals = [0.0, 0.2, 0.4, 0.6, 0.8, 1.0],range=[-0.01,1.05],title='relative depth',ticks='outside')\n",
    "fig.update_yaxes(showline=True, linewidth=1, linecolor='black',showticklabels=True, tickmode = 'array',tickvals = [i for i in range(0,26,2)],title='ID',range=[0,24],ticks='outside')\n",
    "\n",
    "fig.update_layout(width=900, height=700, font=dict(size=20),\n",
    "                  legend=dict(orientation=\"h\",\n",
    "                              yanchor=\"top\",\n",
    "                              y=1.12,\n",
    "                              xanchor=\"center\",\n",
    "                              x=0.5, font = dict(size = 25)\n",
    "                              )\n",
    "                    ) \n",
    "#pio.write_image(fig, '/u/area/lvaleriani/scratch/esm2/curve/svgplots/pnet_esm1.png',scale=5,width=900, height=700)"
   ]
  },
  {
   "cell_type": "markdown",
   "metadata": {},
   "source": [
    "## Neighboorhod Overlap - Superfamily"
   ]
  },
  {
   "cell_type": "code",
   "execution_count": 3,
   "metadata": {},
   "outputs": [],
   "source": [
    "import numpy as np \n",
    "from neighborhood_overlap import create_ds, add_data, overlap_mean, plot_no"
   ]
  },
  {
   "cell_type": "code",
   "execution_count": 5,
   "metadata": {},
   "outputs": [],
   "source": [
    "# choose the model you are interested in between: 'esm1b', 'esm1v', 'ProtBert', 'ProtT5', 'esm2-'...\n",
    "model = 'esm1b'\n",
    "\n",
    "# take mapping values for the model\n",
    "map = mapping[model]\n",
    "\n",
    "# download NN matrices\n",
    "path = '/Users/lucreziavaleriani/Desktop/mount_orfeo/fold_rh/hn/newscope/1b/sp_all/rep'\n",
    "label_path = '/Users/lucreziavaleriani/Desktop/mount_orfeo/fold_rh/data/new_label/'"
   ]
  },
  {
   "cell_type": "code",
   "execution_count": 6,
   "metadata": {},
   "outputs": [],
   "source": [
    "def get_ds(path, layer, ng=100):\n",
    "    ds = create_ds(layer)\n",
    "    for i in np.arange(0, layer+1):\n",
    "        neig = np.load(path + str(i) + '-neigh.npy')\n",
    "        idx = np.load(path + str(i) + '-idx.npy')\n",
    "\n",
    "        label = open(label_path + 'sp_lab.txt')\n",
    "        label = np.array([l.strip('\\n') for l in label])\n",
    "\n",
    "        ds = add_data(ds, i, neig, idx, label, ng)\n",
    "    return ds\n"
   ]
  },
  {
   "cell_type": "code",
   "execution_count": 7,
   "metadata": {},
   "outputs": [],
   "source": [
    "ds = get_ds(path,33,ng=100)\n",
    "overlap1 = np.array(overlap_mean(ds,10))"
   ]
  },
  {
   "cell_type": "markdown",
   "metadata": {},
   "source": [
    "## PLOT"
   ]
  },
  {
   "cell_type": "code",
   "execution_count": 47,
   "metadata": {},
   "outputs": [
    {
     "name": "stdout",
     "output_type": "stream",
     "text": [
      "[ 0  1  2  3  4  5  6  7  8  9 10 11 12 13 14 15 16 17 18 19 20 21 22 23\n",
      " 24 25 26 27 28 29 30 31 32 33 34]\n"
     ]
    },
    {
     "data": {
      "application/vnd.plotly.v1+json": {
       "config": {
        "plotlyServerURL": "https://plot.ly"
       },
       "data": [
        {
         "line": {
          "color": "rgb(220,20,60)",
          "width": 1.5
         },
         "marker": {
          "color": "rgb(220,20,60)",
          "size": 8
         },
         "mode": "lines+markers",
         "name": "ESM-1b",
         "showlegend": true,
         "type": "scatter",
         "x": [
          0,
          0.029411764705882353,
          0.058823529411764705,
          0.08823529411764706,
          0.11764705882352941,
          0.14705882352941177,
          0.17647058823529413,
          0.20588235294117646,
          0.23529411764705882,
          0.2647058823529412,
          0.29411764705882354,
          0.3235294117647059,
          0.35294117647058826,
          0.38235294117647056,
          0.4117647058823529,
          0.4411764705882353,
          0.47058823529411764,
          0.5,
          0.5294117647058824,
          0.5588235294117647,
          0.5882352941176471,
          0.6176470588235294,
          0.6470588235294118,
          0.6764705882352942,
          0.7058823529411765,
          0.7352941176470589,
          0.7647058823529411,
          0.7941176470588235,
          0.8235294117647058,
          0.8529411764705882,
          0.8823529411764706,
          0.9117647058823529,
          0.9411764705882353,
          0.9705882352941176,
          1
         ],
         "y": [
          0.17635198135198019,
          0.1867948717948701,
          0.21909090909090437,
          0.3208741258741187,
          0.42803030303029577,
          0.554743589743586,
          0.6387529137529155,
          0.6865034965034998,
          0.7456876456876459,
          0.7955244755244759,
          0.8393473193473192,
          0.8647435897435907,
          0.8706993006993012,
          0.8758741258741268,
          0.8789277389277388,
          0.8684265734265721,
          0.8670046620046602,
          0.8725407925407925,
          0.8762470862470856,
          0.8779137529137531,
          0.8859557109557109,
          0.8999417249417254,
          0.9041491841491833,
          0.9113636363636365,
          0.9163286713286714,
          0.9192657342657359,
          0.9216899766899775,
          0.9243240093240104,
          0.9246153846153852,
          0.9260372960372959,
          0.9225757575757577,
          0.9178671328671315,
          0.9005361305361305,
          0.8325174825174799
         ]
        }
       ],
       "layout": {
        "font": {
         "size": 20
        },
        "height": 700,
        "legend": {
         "font": {
          "size": 25
         },
         "orientation": "h",
         "x": 0.5,
         "xanchor": "center",
         "y": 1.12,
         "yanchor": "top"
        },
        "plot_bgcolor": "rgba(0,0,0,0)",
        "template": {
         "data": {
          "bar": [
           {
            "error_x": {
             "color": "#2a3f5f"
            },
            "error_y": {
             "color": "#2a3f5f"
            },
            "marker": {
             "line": {
              "color": "#E5ECF6",
              "width": 0.5
             },
             "pattern": {
              "fillmode": "overlay",
              "size": 10,
              "solidity": 0.2
             }
            },
            "type": "bar"
           }
          ],
          "barpolar": [
           {
            "marker": {
             "line": {
              "color": "#E5ECF6",
              "width": 0.5
             },
             "pattern": {
              "fillmode": "overlay",
              "size": 10,
              "solidity": 0.2
             }
            },
            "type": "barpolar"
           }
          ],
          "carpet": [
           {
            "aaxis": {
             "endlinecolor": "#2a3f5f",
             "gridcolor": "white",
             "linecolor": "white",
             "minorgridcolor": "white",
             "startlinecolor": "#2a3f5f"
            },
            "baxis": {
             "endlinecolor": "#2a3f5f",
             "gridcolor": "white",
             "linecolor": "white",
             "minorgridcolor": "white",
             "startlinecolor": "#2a3f5f"
            },
            "type": "carpet"
           }
          ],
          "choropleth": [
           {
            "colorbar": {
             "outlinewidth": 0,
             "ticks": ""
            },
            "type": "choropleth"
           }
          ],
          "contour": [
           {
            "colorbar": {
             "outlinewidth": 0,
             "ticks": ""
            },
            "colorscale": [
             [
              0,
              "#0d0887"
             ],
             [
              0.1111111111111111,
              "#46039f"
             ],
             [
              0.2222222222222222,
              "#7201a8"
             ],
             [
              0.3333333333333333,
              "#9c179e"
             ],
             [
              0.4444444444444444,
              "#bd3786"
             ],
             [
              0.5555555555555556,
              "#d8576b"
             ],
             [
              0.6666666666666666,
              "#ed7953"
             ],
             [
              0.7777777777777778,
              "#fb9f3a"
             ],
             [
              0.8888888888888888,
              "#fdca26"
             ],
             [
              1,
              "#f0f921"
             ]
            ],
            "type": "contour"
           }
          ],
          "contourcarpet": [
           {
            "colorbar": {
             "outlinewidth": 0,
             "ticks": ""
            },
            "type": "contourcarpet"
           }
          ],
          "heatmap": [
           {
            "colorbar": {
             "outlinewidth": 0,
             "ticks": ""
            },
            "colorscale": [
             [
              0,
              "#0d0887"
             ],
             [
              0.1111111111111111,
              "#46039f"
             ],
             [
              0.2222222222222222,
              "#7201a8"
             ],
             [
              0.3333333333333333,
              "#9c179e"
             ],
             [
              0.4444444444444444,
              "#bd3786"
             ],
             [
              0.5555555555555556,
              "#d8576b"
             ],
             [
              0.6666666666666666,
              "#ed7953"
             ],
             [
              0.7777777777777778,
              "#fb9f3a"
             ],
             [
              0.8888888888888888,
              "#fdca26"
             ],
             [
              1,
              "#f0f921"
             ]
            ],
            "type": "heatmap"
           }
          ],
          "heatmapgl": [
           {
            "colorbar": {
             "outlinewidth": 0,
             "ticks": ""
            },
            "colorscale": [
             [
              0,
              "#0d0887"
             ],
             [
              0.1111111111111111,
              "#46039f"
             ],
             [
              0.2222222222222222,
              "#7201a8"
             ],
             [
              0.3333333333333333,
              "#9c179e"
             ],
             [
              0.4444444444444444,
              "#bd3786"
             ],
             [
              0.5555555555555556,
              "#d8576b"
             ],
             [
              0.6666666666666666,
              "#ed7953"
             ],
             [
              0.7777777777777778,
              "#fb9f3a"
             ],
             [
              0.8888888888888888,
              "#fdca26"
             ],
             [
              1,
              "#f0f921"
             ]
            ],
            "type": "heatmapgl"
           }
          ],
          "histogram": [
           {
            "marker": {
             "pattern": {
              "fillmode": "overlay",
              "size": 10,
              "solidity": 0.2
             }
            },
            "type": "histogram"
           }
          ],
          "histogram2d": [
           {
            "colorbar": {
             "outlinewidth": 0,
             "ticks": ""
            },
            "colorscale": [
             [
              0,
              "#0d0887"
             ],
             [
              0.1111111111111111,
              "#46039f"
             ],
             [
              0.2222222222222222,
              "#7201a8"
             ],
             [
              0.3333333333333333,
              "#9c179e"
             ],
             [
              0.4444444444444444,
              "#bd3786"
             ],
             [
              0.5555555555555556,
              "#d8576b"
             ],
             [
              0.6666666666666666,
              "#ed7953"
             ],
             [
              0.7777777777777778,
              "#fb9f3a"
             ],
             [
              0.8888888888888888,
              "#fdca26"
             ],
             [
              1,
              "#f0f921"
             ]
            ],
            "type": "histogram2d"
           }
          ],
          "histogram2dcontour": [
           {
            "colorbar": {
             "outlinewidth": 0,
             "ticks": ""
            },
            "colorscale": [
             [
              0,
              "#0d0887"
             ],
             [
              0.1111111111111111,
              "#46039f"
             ],
             [
              0.2222222222222222,
              "#7201a8"
             ],
             [
              0.3333333333333333,
              "#9c179e"
             ],
             [
              0.4444444444444444,
              "#bd3786"
             ],
             [
              0.5555555555555556,
              "#d8576b"
             ],
             [
              0.6666666666666666,
              "#ed7953"
             ],
             [
              0.7777777777777778,
              "#fb9f3a"
             ],
             [
              0.8888888888888888,
              "#fdca26"
             ],
             [
              1,
              "#f0f921"
             ]
            ],
            "type": "histogram2dcontour"
           }
          ],
          "mesh3d": [
           {
            "colorbar": {
             "outlinewidth": 0,
             "ticks": ""
            },
            "type": "mesh3d"
           }
          ],
          "parcoords": [
           {
            "line": {
             "colorbar": {
              "outlinewidth": 0,
              "ticks": ""
             }
            },
            "type": "parcoords"
           }
          ],
          "pie": [
           {
            "automargin": true,
            "type": "pie"
           }
          ],
          "scatter": [
           {
            "marker": {
             "colorbar": {
              "outlinewidth": 0,
              "ticks": ""
             }
            },
            "type": "scatter"
           }
          ],
          "scatter3d": [
           {
            "line": {
             "colorbar": {
              "outlinewidth": 0,
              "ticks": ""
             }
            },
            "marker": {
             "colorbar": {
              "outlinewidth": 0,
              "ticks": ""
             }
            },
            "type": "scatter3d"
           }
          ],
          "scattercarpet": [
           {
            "marker": {
             "colorbar": {
              "outlinewidth": 0,
              "ticks": ""
             }
            },
            "type": "scattercarpet"
           }
          ],
          "scattergeo": [
           {
            "marker": {
             "colorbar": {
              "outlinewidth": 0,
              "ticks": ""
             }
            },
            "type": "scattergeo"
           }
          ],
          "scattergl": [
           {
            "marker": {
             "colorbar": {
              "outlinewidth": 0,
              "ticks": ""
             }
            },
            "type": "scattergl"
           }
          ],
          "scattermapbox": [
           {
            "marker": {
             "colorbar": {
              "outlinewidth": 0,
              "ticks": ""
             }
            },
            "type": "scattermapbox"
           }
          ],
          "scatterpolar": [
           {
            "marker": {
             "colorbar": {
              "outlinewidth": 0,
              "ticks": ""
             }
            },
            "type": "scatterpolar"
           }
          ],
          "scatterpolargl": [
           {
            "marker": {
             "colorbar": {
              "outlinewidth": 0,
              "ticks": ""
             }
            },
            "type": "scatterpolargl"
           }
          ],
          "scatterternary": [
           {
            "marker": {
             "colorbar": {
              "outlinewidth": 0,
              "ticks": ""
             }
            },
            "type": "scatterternary"
           }
          ],
          "surface": [
           {
            "colorbar": {
             "outlinewidth": 0,
             "ticks": ""
            },
            "colorscale": [
             [
              0,
              "#0d0887"
             ],
             [
              0.1111111111111111,
              "#46039f"
             ],
             [
              0.2222222222222222,
              "#7201a8"
             ],
             [
              0.3333333333333333,
              "#9c179e"
             ],
             [
              0.4444444444444444,
              "#bd3786"
             ],
             [
              0.5555555555555556,
              "#d8576b"
             ],
             [
              0.6666666666666666,
              "#ed7953"
             ],
             [
              0.7777777777777778,
              "#fb9f3a"
             ],
             [
              0.8888888888888888,
              "#fdca26"
             ],
             [
              1,
              "#f0f921"
             ]
            ],
            "type": "surface"
           }
          ],
          "table": [
           {
            "cells": {
             "fill": {
              "color": "#EBF0F8"
             },
             "line": {
              "color": "white"
             }
            },
            "header": {
             "fill": {
              "color": "#C8D4E3"
             },
             "line": {
              "color": "white"
             }
            },
            "type": "table"
           }
          ]
         },
         "layout": {
          "annotationdefaults": {
           "arrowcolor": "#2a3f5f",
           "arrowhead": 0,
           "arrowwidth": 1
          },
          "autotypenumbers": "strict",
          "coloraxis": {
           "colorbar": {
            "outlinewidth": 0,
            "ticks": ""
           }
          },
          "colorscale": {
           "diverging": [
            [
             0,
             "#8e0152"
            ],
            [
             0.1,
             "#c51b7d"
            ],
            [
             0.2,
             "#de77ae"
            ],
            [
             0.3,
             "#f1b6da"
            ],
            [
             0.4,
             "#fde0ef"
            ],
            [
             0.5,
             "#f7f7f7"
            ],
            [
             0.6,
             "#e6f5d0"
            ],
            [
             0.7,
             "#b8e186"
            ],
            [
             0.8,
             "#7fbc41"
            ],
            [
             0.9,
             "#4d9221"
            ],
            [
             1,
             "#276419"
            ]
           ],
           "sequential": [
            [
             0,
             "#0d0887"
            ],
            [
             0.1111111111111111,
             "#46039f"
            ],
            [
             0.2222222222222222,
             "#7201a8"
            ],
            [
             0.3333333333333333,
             "#9c179e"
            ],
            [
             0.4444444444444444,
             "#bd3786"
            ],
            [
             0.5555555555555556,
             "#d8576b"
            ],
            [
             0.6666666666666666,
             "#ed7953"
            ],
            [
             0.7777777777777778,
             "#fb9f3a"
            ],
            [
             0.8888888888888888,
             "#fdca26"
            ],
            [
             1,
             "#f0f921"
            ]
           ],
           "sequentialminus": [
            [
             0,
             "#0d0887"
            ],
            [
             0.1111111111111111,
             "#46039f"
            ],
            [
             0.2222222222222222,
             "#7201a8"
            ],
            [
             0.3333333333333333,
             "#9c179e"
            ],
            [
             0.4444444444444444,
             "#bd3786"
            ],
            [
             0.5555555555555556,
             "#d8576b"
            ],
            [
             0.6666666666666666,
             "#ed7953"
            ],
            [
             0.7777777777777778,
             "#fb9f3a"
            ],
            [
             0.8888888888888888,
             "#fdca26"
            ],
            [
             1,
             "#f0f921"
            ]
           ]
          },
          "colorway": [
           "#636efa",
           "#EF553B",
           "#00cc96",
           "#ab63fa",
           "#FFA15A",
           "#19d3f3",
           "#FF6692",
           "#B6E880",
           "#FF97FF",
           "#FECB52"
          ],
          "font": {
           "color": "#2a3f5f"
          },
          "geo": {
           "bgcolor": "white",
           "lakecolor": "white",
           "landcolor": "#E5ECF6",
           "showlakes": true,
           "showland": true,
           "subunitcolor": "white"
          },
          "hoverlabel": {
           "align": "left"
          },
          "hovermode": "closest",
          "mapbox": {
           "style": "light"
          },
          "paper_bgcolor": "white",
          "plot_bgcolor": "#E5ECF6",
          "polar": {
           "angularaxis": {
            "gridcolor": "white",
            "linecolor": "white",
            "ticks": ""
           },
           "bgcolor": "#E5ECF6",
           "radialaxis": {
            "gridcolor": "white",
            "linecolor": "white",
            "ticks": ""
           }
          },
          "scene": {
           "xaxis": {
            "backgroundcolor": "#E5ECF6",
            "gridcolor": "white",
            "gridwidth": 2,
            "linecolor": "white",
            "showbackground": true,
            "ticks": "",
            "zerolinecolor": "white"
           },
           "yaxis": {
            "backgroundcolor": "#E5ECF6",
            "gridcolor": "white",
            "gridwidth": 2,
            "linecolor": "white",
            "showbackground": true,
            "ticks": "",
            "zerolinecolor": "white"
           },
           "zaxis": {
            "backgroundcolor": "#E5ECF6",
            "gridcolor": "white",
            "gridwidth": 2,
            "linecolor": "white",
            "showbackground": true,
            "ticks": "",
            "zerolinecolor": "white"
           }
          },
          "shapedefaults": {
           "line": {
            "color": "#2a3f5f"
           }
          },
          "ternary": {
           "aaxis": {
            "gridcolor": "white",
            "linecolor": "white",
            "ticks": ""
           },
           "baxis": {
            "gridcolor": "white",
            "linecolor": "white",
            "ticks": ""
           },
           "bgcolor": "#E5ECF6",
           "caxis": {
            "gridcolor": "white",
            "linecolor": "white",
            "ticks": ""
           }
          },
          "title": {
           "x": 0.05
          },
          "xaxis": {
           "automargin": true,
           "gridcolor": "white",
           "linecolor": "white",
           "ticks": "",
           "title": {
            "standoff": 15
           },
           "zerolinecolor": "white",
           "zerolinewidth": 2
          },
          "yaxis": {
           "automargin": true,
           "gridcolor": "white",
           "linecolor": "white",
           "ticks": "",
           "title": {
            "standoff": 15
           },
           "zerolinecolor": "white",
           "zerolinewidth": 2
          }
         }
        },
        "width": 900,
        "xaxis": {
         "linecolor": "black",
         "linewidth": 1,
         "range": [
          -0.01,
          1.05
         ],
         "showline": true,
         "showticklabels": true,
         "tickmode": "array",
         "ticks": "outside",
         "tickvals": [
          0,
          0.2,
          0.4,
          0.6,
          0.8,
          1
         ],
         "title": {
          "text": "relative depth"
         }
        },
        "yaxis": {
         "linecolor": "black",
         "linewidth": 1,
         "range": [
          0,
          1
         ],
         "showline": true,
         "ticks": "outside",
         "tickvals": [
          0,
          0.1,
          0.2,
          0.3,
          0.4,
          0.5,
          0.6,
          0.7,
          0.8,
          0.9,
          1
         ],
         "title": {
          "text": "$\\chi^{gt}$"
         }
        }
       }
      }
     },
     "metadata": {},
     "output_type": "display_data"
    }
   ],
   "source": [
    "layout = Layout(plot_bgcolor='rgba(0,0,0,0)')\n",
    "fig = go.Figure(layout=layout)#.set_subplots(1, 1, horizontal_spacing=0.1,vertical_spacing=0.02)\n",
    "\n",
    "plot_no(fig, len(map[2]), overlap1, map[1], map[0])\n",
    "\n",
    "fig.update_xaxes(showline=True, linewidth=1, linecolor='black', showticklabels=True, tickmode = 'array',tickvals = [0.0, 0.2, 0.4, 0.6, 0.8, 1.0],range=[-0.01,1.05],title='relative depth',ticks='outside')\n",
    "fig.update_yaxes(showline=True, linewidth=1, linecolor='black', tickvals = [0.0, 0.1, 0.2, 0.3, 0.4, 0.5, 0.6, 0.7, 0.8, 0.9, 1.0] , range=[0,1], title = r'$\\chi^{gt}$',ticks='outside')\n",
    "\n",
    "fig.update_layout(width=900, height=700, font=dict(size=20),\n",
    "                  legend=dict(orientation=\"h\",\n",
    "                              yanchor=\"top\",\n",
    "                              y=1.12,\n",
    "                              xanchor=\"center\",\n",
    "                              x=0.5, font = dict(size = 25)\n",
    "                              )\n",
    "                    ) "
   ]
  },
  {
   "cell_type": "code",
   "execution_count": null,
   "metadata": {},
   "outputs": [],
   "source": []
  },
  {
   "cell_type": "code",
   "execution_count": null,
   "metadata": {},
   "outputs": [],
   "source": []
  }
 ],
 "metadata": {
  "kernelspec": {
   "display_name": "Python 3.8.12 ('esm')",
   "language": "python",
   "name": "python3"
  },
  "language_info": {
   "codemirror_mode": {
    "name": "ipython",
    "version": 3
   },
   "file_extension": ".py",
   "mimetype": "text/x-python",
   "name": "python",
   "nbconvert_exporter": "python",
   "pygments_lexer": "ipython3",
   "version": "3.8.12"
  },
  "orig_nbformat": 4,
  "vscode": {
   "interpreter": {
    "hash": "80b434e66dec172365e1d56c6499305bebc364f891c81c62e4abe63fcae008c1"
   }
  }
 },
 "nbformat": 4,
 "nbformat_minor": 2
}
