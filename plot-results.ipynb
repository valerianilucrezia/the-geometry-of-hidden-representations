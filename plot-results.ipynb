{
 "cells": [
  {
   "cell_type": "markdown",
   "metadata": {},
   "source": [
    "# The geometry of hidden representations in protein language models"
   ]
  },
  {
   "cell_type": "markdown",
   "metadata": {},
   "source": [
    "### Import libraries"
   ]
  },
  {
   "cell_type": "code",
   "execution_count": 3,
   "metadata": {},
   "outputs": [],
   "source": [
    "import sys\n",
    "sys.path.insert(0,'src/')\n",
    "\n",
    "import numpy as np\n",
    "import os\n",
    "import plotly.graph_objects as go\n",
    "from plotly.graph_objects import Layout\n",
    "from intrinsic_dimension import block_analysis, save_ID_results, plot_curve_ID"
   ]
  },
  {
   "cell_type": "code",
   "execution_count": 4,
   "metadata": {},
   "outputs": [],
   "source": [
    "mapping = {'esm1b':['ESM-1b','rgb(220,20,60)', np.arange(34)],'esm1v':['ESM-1v','rgb(0,139,139)',np.arange(34)],\n",
    "            'ProtBert':['ProtBert','rgb(136, 78, 160)',np.arange(31)], 'ProtT5':['ProtT5-XL-U50','rgb(245, 148, 0)',np.arange(25)], \n",
    "            'esm2-15B':['ESM-2 (15B)','rgb(68, 1, 84)',np.arange(49)],'esm2-3B':['ESM-2 (3B)','rgb(65, 68, 135)',np.arange(37)],\n",
    "            'esm2-650M':['ESM-2 (650M)','rgb(42, 120, 142)',np.arange(34)], 'esm2-150M':['ESM-2 (150M)','rgb(34, 168, 132)', np.arange(31)],\n",
    "            'esm2-35M':['ESM-2 (35M)','rgb(122, 209, 81)',np.arange(13)], 'esm2-8M':['ESM-2 (8M)','rgb(253, 231, 37)',np.arange(7)], \n",
    "            'esm-MSA':['ESM-MSA-1b','rgb(66,145,31)',np.arange(13)]}"
   ]
  },
  {
   "cell_type": "markdown",
   "metadata": {},
   "source": [
    "## 1. Intrinsic Dimension"
   ]
  },
  {
   "cell_type": "markdown",
   "metadata": {},
   "source": [
    "### Download ProteinNet data and estimate ID"
   ]
  },
  {
   "cell_type": "code",
   "execution_count": 6,
   "metadata": {},
   "outputs": [],
   "source": [
    "# choose the model you are interested in between: 'esm1b', 'esm1v', 'ProtBert', 'ProtT5', 'esm2-'...\n",
    "model = 'esm1b'\n",
    "\n",
    "# take mapping values for the model\n",
    "map = mapping[model]\n",
    "\n",
    "# create dict which will store results for each reps \n",
    "reps_id = {i : [] for i in map[2]}\n",
    "\n",
    "# define path of input and output\n",
    "device = 'lucrezia'\n",
    "if device == 'orfeo':\n",
    "    input_path = '/Users/lucreziavaleriani/Desktop/mount_orfeo/data_repo/pdist/'+ model\n",
    "else:\n",
    "    input_path = '/Users/lucreziavaleriani/Desktop/'\n",
    "    res_path = '/Users/lucreziavaleriani/Desktop/'\n"
   ]
  },
  {
   "cell_type": "code",
   "execution_count": 7,
   "metadata": {},
   "outputs": [
    {
     "name": "stdout",
     "output_type": "stream",
     "text": [
      "start\n"
     ]
    }
   ],
   "source": [
    "# for each rep calculate the id value, save the results of the procedure if needed, \n",
    "# and store the mean value of ID inside the dictionary\n",
    "from dadapy import data\n",
    "\n",
    "for rep in reps_id.keys():\n",
    "    dist_mat = np.load(os.path.join(input_path,'pdist_pnet_rep'+str(rep)+'.npy'))\n",
    "    \n",
    "    # d = data.Data(dist_mat)\n",
    "    # print('start')\n",
    "    # id_twoNN_noisy, _, r_noisy = d.compute_id_2NN()\n",
    "\n",
    "\n",
    "    \n",
    "    #dim,std,n_point = block_analysis(dist_mat, blocks=list(range(1, 21)), fraction=0.9)\n",
    "    #esm1b = save_ID_results('id_0.csv',dim,std,n_point)\n",
    "\n",
    "    #reps_id[rep].append(np.mean(dim))\n",
    "    \n"
   ]
  },
  {
   "cell_type": "markdown",
   "metadata": {},
   "source": [
    "### Plot curve(s)"
   ]
  },
  {
   "cell_type": "code",
   "execution_count": 24,
   "metadata": {},
   "outputs": [
    {
     "ename": "SyntaxError",
     "evalue": "unexpected EOF while parsing (2246470315.py, line 19)",
     "output_type": "error",
     "traceback": [
      "\u001b[0;36m  Input \u001b[0;32mIn [24]\u001b[0;36m\u001b[0m\n\u001b[0;31m    #pio.write_image(fig, '/u/area/lvaleriani/scratch/esm2/curve/svgplots/pnet_esm1.png',scale=5,width=900, height=700)\u001b[0m\n\u001b[0m                                                                                                                       ^\u001b[0m\n\u001b[0;31mSyntaxError\u001b[0m\u001b[0;31m:\u001b[0m unexpected EOF while parsing\n"
     ]
    }
   ],
   "source": [
    "layout = Layout(plot_bgcolor='rgba(0,0,0,0)')\n",
    "fig = go.Figure(layout=layout)\n",
    "\n",
    "plot_curve_ID(fig,len(map[2])/(len(map[2])-1),reps_id.values(),map[1],map[0])\n",
    "\n",
    "fig.update_xaxes(showline=True, linewidth=1, linecolor='black',showticklabels=True, tickmode = 'array',tickvals = [0.0, 0.2, 0.4, 0.6, 0.8, 1.0],range=[-0.01,1.05],title='relative depth',ticks='outside')\n",
    "fig.update_yaxes(showline=True, linewidth=1, linecolor='black',showticklabels=True, tickmode = 'array',tickvals = [i for i in range(0,26,2)],title='ID',range=[0,24],ticks='outside')\n",
    "\n",
    "fig.update_layout(width=900, height=700, font=dict(size=20),\n",
    "                  legend=dict(orientation=\"h\",\n",
    "                              yanchor=\"top\",\n",
    "                              y=1.12,\n",
    "                              xanchor=\"center\",\n",
    "                              x=0.5, font = dict(size = 25)\n",
    "                              )\n",
    "                    ) \n",
    "#pio.write_image(fig, '/u/area/lvaleriani/scratch/esm2/curve/svgplots/pnet_esm1.png',scale=5,width=900, height=700)"
   ]
  },
  {
   "cell_type": "markdown",
   "metadata": {},
   "source": [
    "## Neighboorhod Overlap"
   ]
  },
  {
   "cell_type": "code",
   "execution_count": null,
   "metadata": {},
   "outputs": [],
   "source": [
    "#calculate no"
   ]
  },
  {
   "cell_type": "code",
   "execution_count": null,
   "metadata": {},
   "outputs": [],
   "source": [
    "#plot neigh ov"
   ]
  }
 ],
 "metadata": {
  "kernelspec": {
   "display_name": "Python 3.8.12 ('esm')",
   "language": "python",
   "name": "python3"
  },
  "language_info": {
   "codemirror_mode": {
    "name": "ipython",
    "version": 3
   },
   "file_extension": ".py",
   "mimetype": "text/x-python",
   "name": "python",
   "nbconvert_exporter": "python",
   "pygments_lexer": "ipython3",
   "version": "3.8.12"
  },
  "orig_nbformat": 4,
  "vscode": {
   "interpreter": {
    "hash": "80b434e66dec172365e1d56c6499305bebc364f891c81c62e4abe63fcae008c1"
   }
  }
 },
 "nbformat": 4,
 "nbformat_minor": 2
}
