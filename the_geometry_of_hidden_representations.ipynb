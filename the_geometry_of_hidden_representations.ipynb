{
 "cells": [
  {
   "cell_type": "markdown",
   "metadata": {},
   "source": [
    "# The geometry of hidden representations in protein language models"
   ]
  },
  {
   "cell_type": "markdown",
   "metadata": {},
   "source": [
    "### Import libraries"
   ]
  },
  {
   "cell_type": "code",
   "execution_count": 18,
   "metadata": {},
   "outputs": [],
   "source": [
    "import sys\n",
    "sys.path.insert(0,'src/')\n",
    "\n",
    "import numpy as np\n",
    "import os\n",
    "\n",
    "import plotly.graph_objects as go\n",
    "from plotly.graph_objects import Layout\n",
    "\n",
    "from intrinsic_dimension import block_analysis, save_ID_results, plot_curve_ID\n",
    "from neighborhood_overlap import mapping, get_data, overlap_label, overlap_layer, plot_no, update_figure\n",
    "\n"
   ]
  },
  {
   "cell_type": "markdown",
   "metadata": {},
   "source": [
    "## 1. Intrinsic Dimension"
   ]
  },
  {
   "cell_type": "markdown",
   "metadata": {},
   "source": [
    "### Download ProteinNet data and estimate ID"
   ]
  },
  {
   "cell_type": "code",
   "execution_count": 6,
   "metadata": {},
   "outputs": [],
   "source": [
    "# choose the model you are interested in between: 'esm1b', 'esm1v', 'ProtBert', 'ProtT5', 'esm2-'...\n",
    "model = 'esm1b'\n",
    "\n",
    "# take mapping values for the model\n",
    "map = mapping[model]\n",
    "\n",
    "# create dict which will store results for each reps \n",
    "reps_id = {i : [] for i in map[2]}\n",
    "\n",
    "# define path of input and output\n",
    "device = 'lucrezia'\n",
    "if device == 'orfeo':\n",
    "    input_path = '/Users/lucreziavaleriani/Desktop/mount_orfeo/data_repo/pdist/'+ model\n",
    "else:\n",
    "    input_path = '/Users/lucreziavaleriani/Desktop/'\n",
    "    res_path = '/Users/lucreziavaleriani/Desktop/'\n"
   ]
  },
  {
   "cell_type": "code",
   "execution_count": 7,
   "metadata": {},
   "outputs": [
    {
     "name": "stdout",
     "output_type": "stream",
     "text": [
      "start\n"
     ]
    }
   ],
   "source": [
    "# for each rep calculate the id value, save the results of the procedure if needed, \n",
    "# and store the mean value of ID inside the dictionary\n",
    "from dadapy import data\n",
    "\n",
    "for rep in reps_id.keys():\n",
    "    dist_mat = np.load(os.path.join(input_path,'pdist_pnet_rep'+str(rep)+'.npy'))\n",
    "    \n",
    "    # d = data.Data(dist_mat)\n",
    "    # print('start')\n",
    "    # id_twoNN_noisy, _, r_noisy = d.compute_id_2NN()\n",
    "\n",
    "\n",
    "    \n",
    "    #dim,std,n_point = block_analysis(dist_mat, blocks=list(range(1, 21)), fraction=0.9)\n",
    "    #esm1b = save_ID_results('id_0.csv',dim,std,n_point)\n",
    "\n",
    "    #reps_id[rep].append(np.mean(dim))\n",
    "    \n"
   ]
  },
  {
   "cell_type": "markdown",
   "metadata": {},
   "source": [
    "### Plot curve(s)"
   ]
  },
  {
   "cell_type": "code",
   "execution_count": 24,
   "metadata": {},
   "outputs": [
    {
     "ename": "SyntaxError",
     "evalue": "unexpected EOF while parsing (2246470315.py, line 19)",
     "output_type": "error",
     "traceback": [
      "\u001b[0;36m  Input \u001b[0;32mIn [24]\u001b[0;36m\u001b[0m\n\u001b[0;31m    #pio.write_image(fig, '/u/area/lvaleriani/scratch/esm2/curve/svgplots/pnet_esm1.png',scale=5,width=900, height=700)\u001b[0m\n\u001b[0m                                                                                                                       ^\u001b[0m\n\u001b[0;31mSyntaxError\u001b[0m\u001b[0;31m:\u001b[0m unexpected EOF while parsing\n"
     ]
    }
   ],
   "source": [
    "layout = Layout(plot_bgcolor='rgba(0,0,0,0)')\n",
    "fig = go.Figure(layout=layout)\n",
    "\n",
    "plot_curve_ID(fig,len(map[2])/(len(map[2])-1),reps_id.values(),map[1],map[0])\n",
    "\n",
    "fig.update_xaxes(showline=True, linewidth=1, linecolor='black',showticklabels=True, tickmode = 'array',tickvals = [0.0, 0.2, 0.4, 0.6, 0.8, 1.0],range=[-0.01,1.05],title='relative depth',ticks='outside')\n",
    "fig.update_yaxes(showline=True, linewidth=1, linecolor='black',showticklabels=True, tickmode = 'array',tickvals = [i for i in range(0,26,2)],title='ID',range=[0,24],ticks='outside')\n",
    "\n",
    "fig.update_layout(width=900, height=700, font=dict(size=20),\n",
    "                  legend=dict(orientation=\"h\",\n",
    "                              yanchor=\"top\",\n",
    "                              y=1.12,\n",
    "                              xanchor=\"center\",\n",
    "                              x=0.5, font = dict(size = 25)\n",
    "                              )\n",
    "                    ) \n",
    "#pio.write_image(fig, '/u/area/lvaleriani/scratch/esm2/curve/svgplots/pnet_esm1.png',scale=5,width=900, height=700)"
   ]
  },
  {
   "cell_type": "markdown",
   "metadata": {},
   "source": [
    "## Neighboorhod Overlap - Superfamily"
   ]
  },
  {
   "cell_type": "code",
   "execution_count": 19,
   "metadata": {},
   "outputs": [],
   "source": [
    "# choose the model you are interested in between: 'esm1b', 'esm1v', 'ProtBert', 'ProtT5', 'esm2-'...\n",
    "model = 'esm1b'\n",
    "\n",
    "# take mapping values for the model\n",
    "map = mapping[model]\n",
    "layer = len(map[2]) - 1\n",
    "\n",
    "# download NN matrices\n",
    "path = '/Users/lucreziavaleriani/Desktop/mount_orfeo/fold_rh/hn/newscope/1b/sp_all/rep'\n",
    "label_path = '/Users/lucreziavaleriani/Desktop/mount_orfeo/fold_rh/data/new_label/'"
   ]
  },
  {
   "cell_type": "code",
   "execution_count": 20,
   "metadata": {},
   "outputs": [],
   "source": [
    "ds = get_data(path, label_path, layer, ng = 50)"
   ]
  },
  {
   "cell_type": "code",
   "execution_count": 21,
   "metadata": {},
   "outputs": [],
   "source": [
    "overlap_label = np.array(overlap_label(ds, k = 10))"
   ]
  },
  {
   "cell_type": "code",
   "execution_count": 22,
   "metadata": {},
   "outputs": [],
   "source": [
    "overlap_last = np.array([overlap_layer(ds, l, 33, k=10) for l in range(layer+1)])\n",
    "overlap_first = np.array([overlap_layer(ds, l, 0, k=10) for l in range(layer+1)])\n",
    "overlap_last = np.array([overlap_layer(ds, l, 33, k=10) for l in range(layer+1)])\n",
    "overlap_next = np.array([overlap_layer(ds, l, l+1, k=10) for l in range(layer)])"
   ]
  },
  {
   "cell_type": "code",
   "execution_count": 23,
   "metadata": {},
   "outputs": [
    {
     "data": {
      "text/plain": [
       "array([0.08332168, 0.09061772, 0.10807692, 0.15786713, 0.19031469,\n",
       "       0.23634033, 0.27344988, 0.30386946, 0.33672494, 0.37602564,\n",
       "       0.422669  , 0.44768065, 0.45898601, 0.47261072, 0.47951049,\n",
       "       0.46628205, 0.46609557, 0.48050117, 0.49315851, 0.50245921,\n",
       "       0.50952214, 0.51319347, 0.51853147, 0.52467366, 0.52972028,\n",
       "       0.535338  , 0.53780886, 0.54076923, 0.54522145, 0.55458042,\n",
       "       0.57118881, 0.59895105, 0.67794872, 1.        ])"
      ]
     },
     "execution_count": 23,
     "metadata": {},
     "output_type": "execute_result"
    }
   ],
   "source": [
    "overlap_last"
   ]
  },
  {
   "cell_type": "markdown",
   "metadata": {},
   "source": [
    "## PLOT"
   ]
  },
  {
   "cell_type": "code",
   "execution_count": 24,
   "metadata": {},
   "outputs": [
    {
     "ename": "TypeError",
     "evalue": "update_figure() got an unexpected keyword argument 'w'",
     "output_type": "error",
     "traceback": [
      "\u001b[0;31m---------------------------------------------------------------------------\u001b[0m",
      "\u001b[0;31mTypeError\u001b[0m                                 Traceback (most recent call last)",
      "\u001b[1;32m/Users/lucreziavaleriani/Desktop/mount_orfeo/the-geometry-of-hidden-representations/the_geometry_of_hidden_representations.ipynb Cella 17\u001b[0m in \u001b[0;36m<cell line: 5>\u001b[0;34m()\u001b[0m\n\u001b[1;32m      <a href='vscode-notebook-cell:/Users/lucreziavaleriani/Desktop/mount_orfeo/the-geometry-of-hidden-representations/the_geometry_of_hidden_representations.ipynb#X22sZmlsZQ%3D%3D?line=2'>3</a>\u001b[0m plot_no(fig, layer, overlap_last, \u001b[39mmap\u001b[39m[\u001b[39m1\u001b[39m], \u001b[39mmap\u001b[39m[\u001b[39m0\u001b[39m])\n\u001b[1;32m      <a href='vscode-notebook-cell:/Users/lucreziavaleriani/Desktop/mount_orfeo/the-geometry-of-hidden-representations/the_geometry_of_hidden_representations.ipynb#X22sZmlsZQ%3D%3D?line=3'>4</a>\u001b[0m \u001b[39m#plot_no(fig, layer-1, overlap_next, map[1], map[0])\u001b[39;00m\n\u001b[0;32m----> <a href='vscode-notebook-cell:/Users/lucreziavaleriani/Desktop/mount_orfeo/the-geometry-of-hidden-representations/the_geometry_of_hidden_representations.ipynb#X22sZmlsZQ%3D%3D?line=4'>5</a>\u001b[0m update_figure(fig, title \u001b[39m=\u001b[39;49m \u001b[39mr\u001b[39;49m\u001b[39m'\u001b[39;49m\u001b[39m$\u001b[39;49m\u001b[39m\\\u001b[39;49m\u001b[39mchi^\u001b[39;49m\u001b[39m{gt}\u001b[39;49;00m\u001b[39m$\u001b[39;49m\u001b[39m'\u001b[39;49m, w \u001b[39m=\u001b[39;49m \u001b[39m500\u001b[39;49m, h\u001b[39m=\u001b[39;49m \u001b[39m400\u001b[39;49m)\n",
      "\u001b[0;31mTypeError\u001b[0m: update_figure() got an unexpected keyword argument 'w'"
     ]
    }
   ],
   "source": [
    "fig = go.Figure(layout=Layout(plot_bgcolor='rgba(0,0,0,0)')) #.set_subplots(1, 1, horizontal_spacing=0.1,vertical_spacing=0.02)\n",
    "\n",
    "plot_no(fig, layer, overlap_last, map[1], map[0])\n",
    "#plot_no(fig, layer-1, overlap_next, map[1], map[0])\n",
    "update_figure(fig, title = r'$\\chi^{gt}$', w = 500, h= 400)\n",
    "\n"
   ]
  },
  {
   "cell_type": "code",
   "execution_count": null,
   "metadata": {},
   "outputs": [],
   "source": []
  },
  {
   "cell_type": "code",
   "execution_count": null,
   "metadata": {},
   "outputs": [],
   "source": []
  }
 ],
 "metadata": {
  "kernelspec": {
   "display_name": "Python 3.8.12 ('esm')",
   "language": "python",
   "name": "python3"
  },
  "language_info": {
   "codemirror_mode": {
    "name": "ipython",
    "version": 3
   },
   "file_extension": ".py",
   "mimetype": "text/x-python",
   "name": "python",
   "nbconvert_exporter": "python",
   "pygments_lexer": "ipython3",
   "version": "3.8.12"
  },
  "orig_nbformat": 4,
  "vscode": {
   "interpreter": {
    "hash": "80b434e66dec172365e1d56c6499305bebc364f891c81c62e4abe63fcae008c1"
   }
  }
 },
 "nbformat": 4,
 "nbformat_minor": 2
}
